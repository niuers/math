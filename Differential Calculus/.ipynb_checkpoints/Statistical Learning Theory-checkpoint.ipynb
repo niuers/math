{
 "cells": [
  {
   "cell_type": "markdown",
   "metadata": {},
   "source": [
    "# Statistical Learning Theory"
   ]
  },
  {
   "cell_type": "markdown",
   "metadata": {},
   "source": [
    "## Risk of Decision Function\n",
    "* Given a decision function (or prediction function) $f(x): X \\to A$, the risk of this decision funciton is defined as:\n",
    "\n",
    "\\begin{equation}\n",
    "R(f) = E[L(f(x), y)]\n",
    "\\end{equation}\n",
    "\n",
    "where $L(f(x), y)$ is the **loss function**.\n",
    "\n",
    "### Regression Function and Squared Error Loss\n",
    "Let $X \\in R^p$ denote a real valued random input vector, and $Y \\in R$ a real valued random output variable, with joint distribution $P(X,Y)$. \n",
    "\n",
    "Consider the **squared error loss** function, where $L(f(x), y) = (y-f(x))^2$.\n",
    "\n",
    "\\begin{equation}\n",
    "R(f) = E[(Y-f(X))^2] = \\int [y-f(x)]^2P(x,y)\n",
    "\\end{equation}\n",
    "\n",
    "By conditioning on $X$, we can write the risk as\n",
    "\n",
    "\\begin{equation}\n",
    "R(f) = E_XE_{Y|X}[(Y-f(X))^2|X]\n",
    "\\end{equation}\n",
    "\n",
    "We see that it suffices to minimize $R(f)$ pointwise:\n",
    "\n",
    "\\begin{equation}\n",
    "f(x) = argmin_cE_{Y|X}[(Y-c)^2|X]\n",
    "\\end{equation}\n",
    "\n",
    "The solution is\n",
    "\n",
    "\\begin{equation}\n",
    "f(x) = E[Y|X]\n",
    "\\end{equation}\n",
    "\n",
    "the conditional expectation, also known as the **regression function**. Thus the best prediction of $Y$ at any point $X=x$ is the conditional mean, when best is measured by average squared error."
   ]
  },
  {
   "cell_type": "code",
   "execution_count": null,
   "metadata": {},
   "outputs": [],
   "source": []
  }
 ],
 "metadata": {
  "kernelspec": {
   "display_name": "Python 3",
   "language": "python",
   "name": "python3"
  },
  "language_info": {
   "codemirror_mode": {
    "name": "ipython",
    "version": 3
   },
   "file_extension": ".py",
   "mimetype": "text/x-python",
   "name": "python",
   "nbconvert_exporter": "python",
   "pygments_lexer": "ipython3",
   "version": "3.7.3"
  }
 },
 "nbformat": 4,
 "nbformat_minor": 2
}
